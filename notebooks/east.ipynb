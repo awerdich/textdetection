{
 "cells": [
  {
   "cell_type": "markdown",
   "id": "5e418692-4734-4fab-843c-b605cf08ace8",
   "metadata": {},
   "source": [
    "### Text detection using EAST algorithm ###\n",
    "\n",
    "* The EAST algorithm cpaper can be found at: https://arxiv.org/abs/1704.03155\n",
    "\n",
    "* Code has been adapted from: https://pyimagesearch.com/2018/08/20/opencv-text-detection-east-text-detector/\n",
    "\n",
    "* Other implementations: https://github.com/YCICI/EAST-OpenCv/tree/master\n",
    "\n"
   ]
  },
  {
   "cell_type": "code",
   "execution_count": null,
   "id": "5c871b11-42f7-44e2-a917-c289dbea630e",
   "metadata": {},
   "outputs": [],
   "source": [
    "import os\n",
    "import numpy as np\n",
    "import pandas as pd\n",
    "import cv2\n",
    "import glob\n",
    "\n",
    "import torch\n",
    "\n",
    "# Appearance of the Notebook\n",
    "from IPython.display import display, HTML\n",
    "display(HTML(\"<style>.container { width:100% !important; }</style>\"))\n",
    "np.set_printoptions(linewidth=110)\n",
    "pd.set_option('display.max_rows', 500)\n",
    "pd.set_option('display.max_columns', 100)\n",
    "pd.set_option('display.width', 1000)\n",
    "\n",
    "# Import this module with autoreload\n",
    "%load_ext autoreload\n",
    "%autoreload 2\n",
    "import textdetection as td\n",
    "print(f'Package version: {td.__version__}')"
   ]
  },
  {
   "cell_type": "code",
   "execution_count": null,
   "id": "e5421d29-7a93-4d94-9bc3-90e904af2535",
   "metadata": {},
   "outputs": [],
   "source": [
    "# GPU checks\n",
    "is_cuda = torch.cuda.is_available()\n",
    "print(f'CUDA available: {is_cuda}')\n",
    "print(f'Number of GPUs found:  {torch.cuda.device_count()}')\n",
    "\n",
    "if is_cuda:\n",
    "    print(f'Current device ID:     {torch.cuda.current_device()}')\n",
    "    print(f'GPU device name:       {torch.cuda.get_device_name(0)}')\n",
    "    print(f'CUDNN version:         {torch.backends.cudnn.version()}')\n",
    "    device_str = 'cuda:0'\n",
    "    torch.cuda.empty_cache() \n",
    "else:\n",
    "    device_str = 'cpu'\n",
    "device = torch.device(device_str)\n",
    "print()\n",
    "print(f'Device for model training/inference: {device}')"
   ]
  },
  {
   "cell_type": "code",
   "execution_count": null,
   "id": "e577c46e-b021-4cd9-87b1-ca2b7c7c79d6",
   "metadata": {},
   "outputs": [],
   "source": [
    "# data directory\n",
    "# /home/andreas/data/textdetection/sample_images_text\n",
    "data_dir = os.environ.get('DATA_ROOT')\n",
    "image_dir = os.environ.get('IMAGE_DIR')\n",
    "print(image_dir)"
   ]
  },
  {
   "cell_type": "code",
   "execution_count": null,
   "id": "3d3a6daf-ce07-4dc6-81b9-1a0fcafae8b1",
   "metadata": {},
   "outputs": [],
   "source": [
    "def find_files(file_dir, xt_list=None):\n",
    "    if xt_list is None:\n",
    "        xt_list = ('.jpg', '.jpeg', '.png', '.tif', '.tiff')\n",
    "    image_files = [glob.glob(os.path.join(file_dir, f'*{xt}')) for xt in xt_list]\n",
    "    image_files = [item for lst in image_files for item in lst]\n",
    "    return image_files"
   ]
  },
  {
   "cell_type": "code",
   "execution_count": null,
   "id": "8c85faec-03f7-4388-8e6c-68e331045de0",
   "metadata": {},
   "outputs": [],
   "source": []
  }
 ],
 "metadata": {
  "language_info": {
   "name": "python"
  }
 },
 "nbformat": 4,
 "nbformat_minor": 5
}
